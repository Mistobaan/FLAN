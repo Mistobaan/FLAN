{
 "cells": [
  {
   "cell_type": "code",
   "execution_count": 2,
   "metadata": {},
   "outputs": [
    {
     "name": "stderr",
     "output_type": "stream",
     "text": [
      "/fsx/home-mistobaan/mambaforge/envs/flan/lib/python3.8/site-packages/flax/core/frozen_dict.py:169: FutureWarning: jax.tree_util.register_keypaths is deprecated, and will be removed in a future release. Please use `register_pytree_with_keys()` instead.\n",
      "  jax.tree_util.register_keypaths(\n",
      "2023-03-27 17:44:25.660801: W tensorflow/compiler/tf2tensorrt/utils/py_utils.cc:38] TF-TRT Warning: Could not find TensorRT\n"
     ]
    }
   ],
   "source": [
    "import seqio"
   ]
  },
  {
   "cell_type": "code",
   "execution_count": 3,
   "metadata": {},
   "outputs": [
    {
     "name": "stderr",
     "output_type": "stream",
     "text": [
      "2023-03-27 17:44:42.540339: E tensorflow/compiler/xla/stream_executor/cuda/cuda_driver.cc:266] failed call to cuInit: CUDA_ERROR_NO_DEVICE: no CUDA-capable device is detected\n"
     ]
    }
   ],
   "source": [
    "from flan.v2 import mixtures"
   ]
  },
  {
   "cell_type": "code",
   "execution_count": 4,
   "metadata": {},
   "outputs": [
    {
     "data": {
      "text/plain": [
       "<seqio.dataset_providers.Mixture at 0x7fe0349d8820>"
      ]
     },
     "execution_count": 4,
     "metadata": {},
     "output_type": "execute_result"
    }
   ],
   "source": [
    "seqio.MixtureRegistry.add(\n",
    "    't0_submix',\n",
    "    tasks=[\n",
    "        ('t0_zsopt', 1),      # mixing weight = 25%\n",
    "        # ('t0_fsopt', 1),      # mixing weight = 25%\n",
    "        # ('t0_zsnoopt', 1),    # mixing weight = 25%\n",
    "        # ('t0_fsnoopt', 1),    # mixing weight = 25%\n",
    "    ])"
   ]
  },
  {
   "cell_type": "code",
   "execution_count": 5,
   "metadata": {},
   "outputs": [],
   "source": [
    "# !wget https://curl.se/ca/cacert-2023-01-10.pem -O ~/cacert.pem"
   ]
  },
  {
   "cell_type": "code",
   "execution_count": 6,
   "metadata": {},
   "outputs": [
    {
     "name": "stdout",
     "output_type": "stream",
     "text": [
      "env: CURL_CA_BUNDLE=/fsx/home-mistobaan/cacert.pem\n"
     ]
    }
   ],
   "source": [
    "# https://curl.se/docs/caextract.html\n",
    "%env CURL_CA_BUNDLE /fsx/home-mistobaan/cacert.pem"
   ]
  },
  {
   "cell_type": "code",
   "execution_count": 7,
   "metadata": {},
   "outputs": [
    {
     "name": "stderr",
     "output_type": "stream",
     "text": [
      "2023-03-27 17:44:44.524953: W tensorflow/tsl/platform/cloud/google_auth_provider.cc:184] All attempts to get a Google authentication bearer token failed, returning an empty token. Retrieving token from files failed with \"NOT_FOUND: Could not locate the credentials file.\". Retrieving token from GCE failed with \"FAILED_PRECONDITION: Error executing an HTTP request: libcurl code 6 meaning 'Couldn't resolve host name', error details: Could not resolve host: metadata.google.internal\".\n",
      "WARNING:absl:`TensorInfo.dtype` is deprecated. Please change your code to use NumPy with the field `TensorInfo.np_dtype` or use TensorFlow with the field `TensorInfo.tf_dtype`.\n",
      "WARNING:absl:You use TensorFlow DType <dtype: 'int32'> in tfds.features This will soon be deprecated in favor of NumPy DTypes. In the meantime it was converted to int32.\n",
      "WARNING:absl:`TensorInfo.dtype` is deprecated. Please change your code to use NumPy with the field `TensorInfo.np_dtype` or use TensorFlow with the field `TensorInfo.tf_dtype`.\n",
      "WARNING:absl:`TensorInfo.dtype` is deprecated. Please change your code to use NumPy with the field `TensorInfo.np_dtype` or use TensorFlow with the field `TensorInfo.tf_dtype`.\n",
      "WARNING:absl:`TensorInfo.dtype` is deprecated. Please change your code to use NumPy with the field `TensorInfo.np_dtype` or use TensorFlow with the field `TensorInfo.tf_dtype`.\n",
      "WARNING:absl:`TensorInfo.dtype` is deprecated. Please change your code to use NumPy with the field `TensorInfo.np_dtype` or use TensorFlow with the field `TensorInfo.tf_dtype`.\n",
      "WARNING:absl:`TensorInfo.dtype` is deprecated. Please change your code to use NumPy with the field `TensorInfo.np_dtype` or use TensorFlow with the field `TensorInfo.tf_dtype`.\n",
      "WARNING:absl:`TensorInfo.dtype` is deprecated. Please change your code to use NumPy with the field `TensorInfo.np_dtype` or use TensorFlow with the field `TensorInfo.tf_dtype`.\n",
      "WARNING:absl:`TensorInfo.dtype` is deprecated. Please change your code to use NumPy with the field `TensorInfo.np_dtype` or use TensorFlow with the field `TensorInfo.tf_dtype`.\n",
      "WARNING:absl:`TensorInfo.dtype` is deprecated. Please change your code to use NumPy with the field `TensorInfo.np_dtype` or use TensorFlow with the field `TensorInfo.tf_dtype`.\n",
      "WARNING:absl:`TensorInfo.dtype` is deprecated. Please change your code to use NumPy with the field `TensorInfo.np_dtype` or use TensorFlow with the field `TensorInfo.tf_dtype`.\n",
      "WARNING:absl:You use TensorFlow DType <dtype: 'string'> in tfds.features This will soon be deprecated in favor of NumPy DTypes. In the meantime it was converted to object.\n"
     ]
    },
    {
     "name": "stdout",
     "output_type": "stream",
     "text": [
      "WARNING:tensorflow:From /fsx/home-mistobaan/mambaforge/envs/flan/lib/python3.8/site-packages/seqio/dataset_providers.py:1758: sample_from_datasets_v2 (from tensorflow.python.data.experimental.ops.interleave_ops) is deprecated and will be removed in a future version.\n",
      "Instructions for updating:\n",
      "Use `tf.data.Dataset.sample_from_datasets(...)`.\n"
     ]
    },
    {
     "name": "stderr",
     "output_type": "stream",
     "text": [
      "WARNING:tensorflow:From /fsx/home-mistobaan/mambaforge/envs/flan/lib/python3.8/site-packages/seqio/dataset_providers.py:1758: sample_from_datasets_v2 (from tensorflow.python.data.experimental.ops.interleave_ops) is deprecated and will be removed in a future version.\n",
      "Instructions for updating:\n",
      "Use `tf.data.Dataset.sample_from_datasets(...)`.\n"
     ]
    }
   ],
   "source": [
    "import tensorflow_datasets as tdfs\n",
    "\n",
    "selected_mixture = seqio.get_mixture_or_task('t0_submix')\n",
    "\n",
    "dataset = selected_mixture.get_dataset(\n",
    "    sequence_length={\"inputs\": 4096, \"targets\": 4096},\n",
    "    split=tdfs.Split.TRAIN,\n",
    "    num_epochs=1,\n",
    "    shuffle=False,\n",
    "    copy_pretokenized=True,\n",
    "    passthrough_features=[\"_template_idx\", \"_task_source\", \"_task_name\", \"_template\", \"_template_type\"]    \n",
    ")"
   ]
  },
  {
   "cell_type": "code",
   "execution_count": 17,
   "metadata": {},
   "outputs": [],
   "source": [
    "it = iter(dataset)"
   ]
  },
  {
   "cell_type": "code",
   "execution_count": 9,
   "metadata": {},
   "outputs": [],
   "source": [
    "item = _"
   ]
  },
  {
   "cell_type": "code",
   "execution_count": 16,
   "metadata": {},
   "outputs": [
    {
     "data": {
      "text/plain": [
       "('Q: Where are most of the organs contained in insects?   Read this paragraph and choose the correct option from the provided answers:  Like other arthropods, insects have three body segments and many jointed appendages. The abdomen contains most of the internal organs. Six legs are attached to the thorax. There are several appendages on the insect’s head:.   Choices:  - head  - appendages  - thorax  - the abdomen   A:\\n',\n",
       " 'the abdomen',\n",
       " 0,\n",
       " 'zs_opt',\n",
       " 'sciq_Multiple_Choice_Question_First',\n",
       " 'P3')"
      ]
     },
     "execution_count": 16,
     "metadata": {},
     "output_type": "execute_result"
    }
   ],
   "source": [
    "(\n",
    "    item['inputs_pretokenized'].numpy().decode(),\n",
    "    item['targets_pretokenized'].numpy().decode(),\n",
    "    item['_template_idx'].numpy(),\n",
    "    item['_template_type'].numpy().decode(),\n",
    "    item['_task_name'].numpy().decode(),\n",
    "    item['_task_source'].numpy().decode()\n",
    ")"
   ]
  },
  {
   "cell_type": "code",
   "execution_count": null,
   "metadata": {},
   "outputs": [],
   "source": [
    "save_data = []\n",
    "source_counter = defaultdict(lambda: 0)\n",
    "NUM_SAMPLES = 100\n",
    "# If you would like to take min(1 epoch, NUM_SAMPLES) then use dataset.take(NUM_SAMPLES)\n",
    "# Or if you would like to gather a full epoch, simply `enumerate(dataset)` until completion.\n",
    "for i, ex in enumerate(dataset.take(NUM_SAMPLES)):\n",
    "    source_counter[ex[\"_task_source\"].numpy()] += 1\n",
    "    save_data.append((ex[\"inputs_pretokenized\"].numpy().decode(),\n",
    "                      ex[\"targets_pretokenized\"].numpy().decode()))\n",
    "\n",
    "print(f\"Data Submixture Counts: {source_counter}\")"
   ]
  }
 ],
 "metadata": {
  "kernelspec": {
   "display_name": "flan",
   "language": "python",
   "name": "python3"
  },
  "language_info": {
   "codemirror_mode": {
    "name": "ipython",
    "version": 3
   },
   "file_extension": ".py",
   "mimetype": "text/x-python",
   "name": "python",
   "nbconvert_exporter": "python",
   "pygments_lexer": "ipython3",
   "version": "3.8.16"
  },
  "orig_nbformat": 4
 },
 "nbformat": 4,
 "nbformat_minor": 2
}
